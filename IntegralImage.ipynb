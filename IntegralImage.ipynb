{
 "cells": [
  {
   "cell_type": "code",
   "execution_count": 35,
   "id": "initial_id",
   "metadata": {
    "collapsed": true,
    "ExecuteTime": {
     "end_time": "2023-08-24T01:59:26.266180900Z",
     "start_time": "2023-08-24T01:59:26.249204900Z"
    }
   },
   "outputs": [],
   "source": [
    "import numpy as np"
   ]
  },
  {
   "cell_type": "code",
   "execution_count": 36,
   "outputs": [],
   "source": [
    "def compute_integral_image(image, integral_image):\n",
    "    \"\"\"\n",
    "    Compute the integral image using the provided numpy functions and ndarray methods.\n",
    "    \n",
    "    Args:\n",
    "    - image (2D numpy array): grayscale image\n",
    "    - integral_image (2D numpy array): integral image of the same size\n",
    "    \n",
    "    Returns:\n",
    "    - integral_image (2D numpy array): integral image of the same size\n",
    "    \"\"\"\n",
    "\n",
    "    # Compute cumulative sum along the rows using only allowed numpy functions\n",
    "    integral_image[:, 0] = image[:, 0]\n",
    "    for col in range(1, image.shape[1]):\n",
    "        integral_image[:, col] = np.add(integral_image[:, col - 1], image[:, col])\n",
    "\n",
    "    # Compute cumulative sum of the previous result along the columns\n",
    "    # integral_image[0, :] = integral_image[0, :]\n",
    "    for row in range(1, image.shape[0]):\n",
    "        integral_image[row, :] = np.add(integral_image[row - 1, :], integral_image[row, :])\n",
    "    \n",
    "    return integral_image"
   ],
   "metadata": {
    "collapsed": false,
    "ExecuteTime": {
     "end_time": "2023-08-24T01:59:26.266180900Z",
     "start_time": "2023-08-24T01:59:26.254213100Z"
    }
   },
   "id": "3e8a12702c886f8b"
  },
  {
   "cell_type": "code",
   "execution_count": 37,
   "outputs": [
    {
     "name": "stdout",
     "output_type": "stream",
     "text": [
      "[[ 1  3  6]\n",
      " [ 5 12 21]\n",
      " [12 27 45]]\n"
     ]
    }
   ],
   "source": [
    "arr = np.array([[1, 2, 3],\n",
    "                [4, 5, 6],\n",
    "                [7, 8, 9]])\n",
    "integral_image = compute_integral_image(arr, np.zeros_like(arr))\n",
    "\n",
    "print(integral_image)"
   ],
   "metadata": {
    "collapsed": false,
    "ExecuteTime": {
     "end_time": "2023-08-24T01:59:26.267690800Z",
     "start_time": "2023-08-24T01:59:26.259270200Z"
    }
   },
   "id": "9904a0bf7916b238"
  },
  {
   "cell_type": "code",
   "execution_count": 38,
   "outputs": [],
   "source": [
    "from concrete import fhe"
   ],
   "metadata": {
    "collapsed": false,
    "ExecuteTime": {
     "end_time": "2023-08-24T01:59:26.288186100Z",
     "start_time": "2023-08-24T01:59:26.265175600Z"
    }
   },
   "id": "fad2e8b084228ffd"
  },
  {
   "cell_type": "markdown",
   "source": [
    "# Basic Example \n",
    "```python\n",
    "from concrete import fhe\n",
    "\n",
    "def add(x, y):\n",
    "    return x + y\n",
    "\n",
    "compiler = fhe.Compiler(add, {\"x\": \"encrypted\", \"y\": \"clear\"})\n",
    "\n",
    "inputset = [(2, 3), (0, 0), (1, 6), (7, 7), (7, 1)]\n",
    "circuit = compiler.compile(inputset)\n",
    "\n",
    "x = 4\n",
    "y = 4\n",
    "\n",
    "clear_evaluation = add(x, y)\n",
    "homomorphic_evaluation = circuit.encrypt_run_decrypt(x, y)\n",
    "\n",
    "print(x, \"+\", y, \"=\", clear_evaluation, \"=\", homomorphic_evaluation\n",
    "```"
   ],
   "metadata": {
    "collapsed": false
   },
   "id": "f747542b9b4afd3f"
  },
  {
   "cell_type": "code",
   "execution_count": 39,
   "outputs": [],
   "source": [
    "compiler = fhe.Compiler(compute_integral_image,\n",
    "                        {\"image\": \"encrypted\", \"integral_image\": \"encrypted\"})\n",
    "\n",
    "# Add N matrix with random values to the inputset\n",
    "N = 10\n",
    "pixels = 64\n",
    "inputset = []\n",
    "for i in range(N):\n",
    "    inputset.append((np.random.randint(0, 255, size=(pixels, pixels)), \n",
    "                     np.zeros((pixels, pixels), dtype=np.int32)))\n",
    "\n",
    "circuit = compiler.compile(inputset)"
   ],
   "metadata": {
    "collapsed": false,
    "ExecuteTime": {
     "end_time": "2023-08-24T01:59:35.421056700Z",
     "start_time": "2023-08-24T01:59:26.271658Z"
    }
   },
   "id": "3ac45db662f2dde6"
  },
  {
   "cell_type": "code",
   "execution_count": 40,
   "outputs": [
    {
     "name": "stdout",
     "output_type": "stream",
     "text": [
      "Clear evaluation:\n",
      " [[   212    392    569 ...   8203   8446   8534]\n",
      " [   436    848   1033 ...  15638  15886  16118]\n",
      " [   654   1255   1674 ...  23874  24149  24395]\n",
      " ...\n",
      " [  8766  16663  24327 ... 493366 500974 508547]\n",
      " [  8852  16827  24724 ... 500799 508565 516157]\n",
      " [  8931  17141  25265 ... 508532 516543 524229]]\n",
      "Homomorphic evaluation:\n",
      " [[   212    392    569 ...   8203   8446   8534]\n",
      " [   436    848   1033 ...  15638  15886  16118]\n",
      " [   654   1255   1674 ...  23874  24149  24395]\n",
      " ...\n",
      " [  8766  16663  24327 ... 493366 500974 508547]\n",
      " [  8852  16827  24724 ... 500799 508565 516157]\n",
      " [  8931  17141  25265 ... 508532 516543 524229]]\n",
      "Success!!\n"
     ]
    }
   ],
   "source": [
    "clear_evaluation = compute_integral_image(inputset[0][0], inputset[0][1])\n",
    "\n",
    "homomorphic_evaluation = circuit.encrypt_run_decrypt(inputset[0][0], inputset[0][1])\n",
    "\n",
    "print(\"Clear evaluation:\\n\", clear_evaluation)\n",
    "print(\"Homomorphic evaluation:\\n\", homomorphic_evaluation)\n",
    "\n",
    "print(\"Success!!\" if np.array_equal(clear_evaluation, homomorphic_evaluation) else \"Failure :(\")"
   ],
   "metadata": {
    "collapsed": false,
    "ExecuteTime": {
     "end_time": "2023-08-24T01:59:36.078906600Z",
     "start_time": "2023-08-24T01:59:35.425076500Z"
    }
   },
   "id": "c0ffeed88dc294f5"
  }
 ],
 "metadata": {
  "kernelspec": {
   "display_name": "Python 3",
   "language": "python",
   "name": "python3"
  },
  "language_info": {
   "codemirror_mode": {
    "name": "ipython",
    "version": 2
   },
   "file_extension": ".py",
   "mimetype": "text/x-python",
   "name": "python",
   "nbconvert_exporter": "python",
   "pygments_lexer": "ipython2",
   "version": "2.7.6"
  }
 },
 "nbformat": 4,
 "nbformat_minor": 5
}
